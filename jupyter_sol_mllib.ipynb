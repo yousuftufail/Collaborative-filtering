{
 "cells": [
  {
   "cell_type": "markdown",
   "id": "71146cd3",
   "metadata": {},
   "source": [
    "#  Machine learning library in spark (mllib) \n",
    "- In this example 'mllib' in spark is used to calculate the mean squared error between the prediction and original test data.\n",
    "- This example is taken from datacamp. "
   ]
  },
  {
   "cell_type": "code",
   "execution_count": null,
   "id": "8b580526",
   "metadata": {},
   "outputs": [],
   "source": [
    "#--------------------------Important libraries--------------------------------\n",
    "import findspark\n",
    "findspark.init(\"path_to_spark-3.1.2-bin-hadoop3.2\")\n",
    "from pyspark import SparkConf\n",
    "from pyspark.context import SparkContext\n",
    "from pyspark.sql import SparkSession\n",
    "sc = SparkContext.getOrCreate(SparkConf())\n",
    "spark=SparkSession.builder.getOrCreate()\n",
    "\n",
    "\n",
    "# Import the library for ALS\n",
    "from pyspark.mllib.recommendation import ALS, Rating\n",
    "\n",
    "#-------------------------------------------------------------\n",
    "\n",
    "\n"
   ]
  },
  {
   "cell_type": "code",
   "execution_count": 46,
   "id": "0ce00adc",
   "metadata": {},
   "outputs": [],
   "source": [
    "# Load the data into RDD\n",
    "data = sc.textFile(\"ratings.csv\")\n",
    "\n",
    "# Split the RDD \n",
    "ratings = data.map(lambda l: l.split(','))\n",
    "\n",
    "# Transform the ratings RDD \n",
    "ratings_final = ratings.map(lambda line: Rating(int(line[0]), int(line[1]), float(line[2])))  # collecting only first three in every tuple.\n",
    "\n",
    "# Split the data into training and test\n",
    "training_data, test_data = ratings_final.randomSplit([0.8, 0.2])   # 80% and 20% training and test respectively\n",
    "\n",
    "# For the checking\n",
    "#print(ratings.take(10))\n",
    "#print(ratings_final.take(10))\n",
    "#print(training_data.take(10))\n",
    "#print(test_data.take(10))"
   ]
  },
  {
   "cell_type": "code",
   "execution_count": 47,
   "id": "b0e088a1",
   "metadata": {},
   "outputs": [
    {
     "data": {
      "text/plain": [
       "[Rating(user=452, product=1084, rating=3.958058608806706),\n",
       " Rating(user=548, product=1084, rating=3.609724971040655)]"
      ]
     },
     "execution_count": 47,
     "metadata": {},
     "output_type": "execute_result"
    }
   ],
   "source": [
    "# Create the ALS model on the training data\n",
    "model = ALS.train(training_data, rank=10, iterations=10)\n",
    "\n",
    "# Drop the ratings column \n",
    "testdata_no_rating = test_data.map(lambda p: (p[0], p[1]))\n",
    "\n",
    "# Predict the model  \n",
    "predictions = model.predictAll(testdata_no_rating)\n",
    "\n",
    "# Return the first 2 rows of the RDD\n",
    "predictions.take(2)\n",
    "\n",
    "# Just for checking\n",
    "#print(testdata_no_rating.take(10))\n",
    "#print(test_data.take(10))\n",
    "#print(predictions.take(10))"
   ]
  },
  {
   "cell_type": "code",
   "execution_count": 48,
   "id": "5608a5e5",
   "metadata": {},
   "outputs": [
    {
     "name": "stdout",
     "output_type": "stream",
     "text": [
      "Mean Squared Error of the model for the test data = 1.37\n"
     ]
    }
   ],
   "source": [
    "# Prepare ratings data\n",
    "rates = ratings_final.map(lambda r: ((r[0], r[1]), r[2]))\n",
    "\n",
    "# Prepare predictions data\n",
    "preds = predictions.map(lambda r: ((r[0], r[1]), r[2]))\n",
    "\n",
    "# Join the ratings data with predictions data\n",
    "\n",
    "rates_and_preds = rates.join(preds)\n",
    "\n",
    "#-------------------------------Just uncomment the following to see the position and values in tuples-------------\n",
    "#print(ratings_final.take(5))\n",
    "#print(rates.take(20))\n",
    "#print(predictions.take(20))\n",
    "#print(preds.take(5))\n",
    "#print(rates_and_preds.take(5))\n",
    "#-----------------------------------------------------------------------------------------------------------------------\n",
    "# Calculate and print MSE\n",
    "MSE = rates_and_preds.map(lambda r: (r[1][0] - r[1][1])**2).mean()\n",
    "print(\"Mean Squared Error of the model for the test data = {:.2f}\".format(MSE))"
   ]
  },
  {
   "cell_type": "markdown",
   "id": "db7bd640",
   "metadata": {},
   "source": [
    " # Conclusion:\n",
    " MSE looks quite high."
   ]
  },
  {
   "cell_type": "code",
   "execution_count": 50,
   "id": "097921d9",
   "metadata": {},
   "outputs": [],
   "source": [
    "# Those who do not understand the working of join, They can uncomment the following two examples and can observe the working\n",
    "# Example 1:\n",
    "#A=[\"a\",\"b\",\"c\",\"d\"]\n",
    "#B=\" understanding the join \"\n",
    "#print(B.join(A))\n",
    "\n",
    "# Example 2\n",
    "\n",
    "#x = sc.parallelize([((2, 1), 4)])\n",
    "#y = sc.parallelize([((2, 1), 3)])\n",
    "#C=x.join(y)\n",
    "#print(C.collect())"
   ]
  },
  {
   "cell_type": "code",
   "execution_count": null,
   "id": "67482609",
   "metadata": {},
   "outputs": [],
   "source": []
  }
 ],
 "metadata": {
  "kernelspec": {
   "display_name": "Python 3",
   "language": "python",
   "name": "python3"
  },
  "language_info": {
   "codemirror_mode": {
    "name": "ipython",
    "version": 3
   },
   "file_extension": ".py",
   "mimetype": "text/x-python",
   "name": "python",
   "nbconvert_exporter": "python",
   "pygments_lexer": "ipython3",
   "version": "3.8.8"
  }
 },
 "nbformat": 4,
 "nbformat_minor": 5
}
